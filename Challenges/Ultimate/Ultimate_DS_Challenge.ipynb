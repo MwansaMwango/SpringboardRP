{
  "nbformat": 4,
  "nbformat_minor": 0,
  "metadata": {
    "colab": {
      "name": "Ultimate DS Challenge.ipynb",
      "provenance": [],
      "collapsed_sections": [],
      "toc_visible": true
    },
    "kernelspec": {
      "name": "python3",
      "display_name": "Python 3"
    },
    "accelerator": "GPU"
  },
  "cells": [
    {
      "cell_type": "markdown",
      "metadata": {
        "id": "c2g2QnaMeoyX",
        "colab_type": "text"
      },
      "source": [
        "# Ultimate Data Science Challenge"
      ]
    },
    {
      "cell_type": "markdown",
      "metadata": {
        "id": "kT2fDvrveuwO",
        "colab_type": "text"
      },
      "source": [
        "## Part 1 - Exploratory Data Analysis\n",
        "Aggregate the login counts based on 15 minute time intervals, and visualize and describe the resulting time series of login counts in ways that best characterize the underlying patterns of the demand. Please report/illustrate important features of the demand, such as daily cycles."
      ]
    },
    {
      "cell_type": "markdown",
      "metadata": {
        "id": "JJMrlC7jfLST",
        "colab_type": "text"
      },
      "source": [
        "Firstly, import relevant libraries and read data into pandas dataframe."
      ]
    },
    {
      "cell_type": "code",
      "metadata": {
        "id": "TsMmQTIf6it6",
        "colab_type": "code",
        "colab": {}
      },
      "source": [
        "import numpy as np\n",
        "import pandas as pd\n",
        "import random\n",
        "import json\n",
        "import matplotlib.pyplot as plt\n",
        "import seaborn as sns\n",
        "from sklearn.preprocessing import LabelEncoder\n",
        "from xgboost import XGBClassifier\n",
        "from xgboost import plot_importance\n",
        "from sklearn.model_selection import GridSearchCV\n",
        "from sklearn.ensemble import RandomForestClassifier\n",
        "from sklearn.model_selection import train_test_split\n",
        "from sklearn.metrics import confusion_matrix\n",
        "from sklearn.metrics import classification_report\n",
        "from sklearn.metrics import accuracy_score\n",
        "from datetime import datetime\n",
        "%matplotlib inline"
      ],
      "execution_count": 0,
      "outputs": []
    },
    {
      "cell_type": "code",
      "metadata": {
        "id": "Ag6fkmbq6zMs",
        "colab_type": "code",
        "outputId": "5d34b11d-995b-4c0b-ddb2-6683656a9e98",
        "colab": {
          "base_uri": "https://localhost:8080/",
          "height": 204
        }
      },
      "source": [
        "logins = pd.read_json(\"logins.json\")\n",
        "logins.head()"
      ],
      "execution_count": 0,
      "outputs": [
        {
          "output_type": "execute_result",
          "data": {
            "text/html": [
              "<div>\n",
              "<style scoped>\n",
              "    .dataframe tbody tr th:only-of-type {\n",
              "        vertical-align: middle;\n",
              "    }\n",
              "\n",
              "    .dataframe tbody tr th {\n",
              "        vertical-align: top;\n",
              "    }\n",
              "\n",
              "    .dataframe thead th {\n",
              "        text-align: right;\n",
              "    }\n",
              "</style>\n",
              "<table border=\"1\" class=\"dataframe\">\n",
              "  <thead>\n",
              "    <tr style=\"text-align: right;\">\n",
              "      <th></th>\n",
              "      <th>login_time</th>\n",
              "    </tr>\n",
              "  </thead>\n",
              "  <tbody>\n",
              "    <tr>\n",
              "      <th>0</th>\n",
              "      <td>1970-01-01 20:13:18</td>\n",
              "    </tr>\n",
              "    <tr>\n",
              "      <th>1</th>\n",
              "      <td>1970-01-01 20:16:10</td>\n",
              "    </tr>\n",
              "    <tr>\n",
              "      <th>2</th>\n",
              "      <td>1970-01-01 20:16:37</td>\n",
              "    </tr>\n",
              "    <tr>\n",
              "      <th>3</th>\n",
              "      <td>1970-01-01 20:16:36</td>\n",
              "    </tr>\n",
              "    <tr>\n",
              "      <th>4</th>\n",
              "      <td>1970-01-01 20:26:21</td>\n",
              "    </tr>\n",
              "  </tbody>\n",
              "</table>\n",
              "</div>"
            ],
            "text/plain": [
              "           login_time\n",
              "0 1970-01-01 20:13:18\n",
              "1 1970-01-01 20:16:10\n",
              "2 1970-01-01 20:16:37\n",
              "3 1970-01-01 20:16:36\n",
              "4 1970-01-01 20:26:21"
            ]
          },
          "metadata": {
            "tags": []
          },
          "execution_count": 2
        }
      ]
    },
    {
      "cell_type": "markdown",
      "metadata": {
        "id": "6zr-IQ8IfT34",
        "colab_type": "text"
      },
      "source": [
        "Next, check for nulls and extract useful information from the timestamp."
      ]
    },
    {
      "cell_type": "code",
      "metadata": {
        "id": "VZTs-CRx686H",
        "colab_type": "code",
        "outputId": "f4574a8a-e8b1-49ca-a04b-96485285fc91",
        "colab": {
          "base_uri": "https://localhost:8080/",
          "height": 119
        }
      },
      "source": [
        "logins.info() "
      ],
      "execution_count": 0,
      "outputs": [
        {
          "output_type": "stream",
          "text": [
            "<class 'pandas.core.frame.DataFrame'>\n",
            "RangeIndex: 93142 entries, 0 to 93141\n",
            "Data columns (total 1 columns):\n",
            "login_time    93142 non-null datetime64[ns]\n",
            "dtypes: datetime64[ns](1)\n",
            "memory usage: 727.8 KB\n"
          ],
          "name": "stdout"
        }
      ]
    },
    {
      "cell_type": "markdown",
      "metadata": {
        "id": "3ShjscBFfiFQ",
        "colab_type": "text"
      },
      "source": [
        "There are no null values (there's only one column of data) and the column is already in datetime format."
      ]
    },
    {
      "cell_type": "code",
      "metadata": {
        "id": "HmUXq6wY7Nyu",
        "colab_type": "code",
        "colab": {}
      },
      "source": [
        "logins['year'] = logins['login_time'].dt.year\n",
        "logins['month'] = logins['login_time'].dt.month\n",
        "logins['day'] = logins['login_time'].dt.day\n",
        "logins['day_of_week'] = logins['login_time'].dt.day_name()\n",
        "logins['hour'] = logins['login_time'].dt.hour\n",
        "logins['minute'] = logins['login_time'].dt.minute"
      ],
      "execution_count": 0,
      "outputs": []
    },
    {
      "cell_type": "code",
      "metadata": {
        "id": "iJEz7em87vD-",
        "colab_type": "code",
        "outputId": "c935cdba-e1cf-496e-86a5-4ca70b693b0a",
        "colab": {
          "base_uri": "https://localhost:8080/",
          "height": 204
        }
      },
      "source": [
        "logins.head()"
      ],
      "execution_count": 0,
      "outputs": [
        {
          "output_type": "execute_result",
          "data": {
            "text/html": [
              "<div>\n",
              "<style scoped>\n",
              "    .dataframe tbody tr th:only-of-type {\n",
              "        vertical-align: middle;\n",
              "    }\n",
              "\n",
              "    .dataframe tbody tr th {\n",
              "        vertical-align: top;\n",
              "    }\n",
              "\n",
              "    .dataframe thead th {\n",
              "        text-align: right;\n",
              "    }\n",
              "</style>\n",
              "<table border=\"1\" class=\"dataframe\">\n",
              "  <thead>\n",
              "    <tr style=\"text-align: right;\">\n",
              "      <th></th>\n",
              "      <th>login_time</th>\n",
              "      <th>year</th>\n",
              "      <th>month</th>\n",
              "      <th>day</th>\n",
              "      <th>day_of_week</th>\n",
              "      <th>hour</th>\n",
              "      <th>minute</th>\n",
              "    </tr>\n",
              "  </thead>\n",
              "  <tbody>\n",
              "    <tr>\n",
              "      <th>0</th>\n",
              "      <td>1970-01-01 20:13:18</td>\n",
              "      <td>1970</td>\n",
              "      <td>1</td>\n",
              "      <td>1</td>\n",
              "      <td>Thursday</td>\n",
              "      <td>20</td>\n",
              "      <td>13</td>\n",
              "    </tr>\n",
              "    <tr>\n",
              "      <th>1</th>\n",
              "      <td>1970-01-01 20:16:10</td>\n",
              "      <td>1970</td>\n",
              "      <td>1</td>\n",
              "      <td>1</td>\n",
              "      <td>Thursday</td>\n",
              "      <td>20</td>\n",
              "      <td>16</td>\n",
              "    </tr>\n",
              "    <tr>\n",
              "      <th>2</th>\n",
              "      <td>1970-01-01 20:16:37</td>\n",
              "      <td>1970</td>\n",
              "      <td>1</td>\n",
              "      <td>1</td>\n",
              "      <td>Thursday</td>\n",
              "      <td>20</td>\n",
              "      <td>16</td>\n",
              "    </tr>\n",
              "    <tr>\n",
              "      <th>3</th>\n",
              "      <td>1970-01-01 20:16:36</td>\n",
              "      <td>1970</td>\n",
              "      <td>1</td>\n",
              "      <td>1</td>\n",
              "      <td>Thursday</td>\n",
              "      <td>20</td>\n",
              "      <td>16</td>\n",
              "    </tr>\n",
              "    <tr>\n",
              "      <th>4</th>\n",
              "      <td>1970-01-01 20:26:21</td>\n",
              "      <td>1970</td>\n",
              "      <td>1</td>\n",
              "      <td>1</td>\n",
              "      <td>Thursday</td>\n",
              "      <td>20</td>\n",
              "      <td>26</td>\n",
              "    </tr>\n",
              "  </tbody>\n",
              "</table>\n",
              "</div>"
            ],
            "text/plain": [
              "           login_time  year  month  day day_of_week  hour  minute\n",
              "0 1970-01-01 20:13:18  1970      1    1    Thursday    20      13\n",
              "1 1970-01-01 20:16:10  1970      1    1    Thursday    20      16\n",
              "2 1970-01-01 20:16:37  1970      1    1    Thursday    20      16\n",
              "3 1970-01-01 20:16:36  1970      1    1    Thursday    20      16\n",
              "4 1970-01-01 20:26:21  1970      1    1    Thursday    20      26"
            ]
          },
          "metadata": {
            "tags": []
          },
          "execution_count": 5
        }
      ]
    },
    {
      "cell_type": "markdown",
      "metadata": {
        "id": "aHOJ1SvCfwgP",
        "colab_type": "text"
      },
      "source": [
        "Add a \"count\" column to assist with counting values over different time periods."
      ]
    },
    {
      "cell_type": "code",
      "metadata": {
        "id": "JFSHxwLHxrSo",
        "colab_type": "code",
        "colab": {}
      },
      "source": [
        "logins['count'] = 1"
      ],
      "execution_count": 0,
      "outputs": []
    },
    {
      "cell_type": "code",
      "metadata": {
        "id": "HNJuQ213yv5D",
        "colab_type": "code",
        "outputId": "542fcace-30c5-40de-c1b8-6c85c3373899",
        "colab": {
          "base_uri": "https://localhost:8080/",
          "height": 297
        }
      },
      "source": [
        "logins.describe()"
      ],
      "execution_count": 0,
      "outputs": [
        {
          "output_type": "execute_result",
          "data": {
            "text/html": [
              "<div>\n",
              "<style scoped>\n",
              "    .dataframe tbody tr th:only-of-type {\n",
              "        vertical-align: middle;\n",
              "    }\n",
              "\n",
              "    .dataframe tbody tr th {\n",
              "        vertical-align: top;\n",
              "    }\n",
              "\n",
              "    .dataframe thead th {\n",
              "        text-align: right;\n",
              "    }\n",
              "</style>\n",
              "<table border=\"1\" class=\"dataframe\">\n",
              "  <thead>\n",
              "    <tr style=\"text-align: right;\">\n",
              "      <th></th>\n",
              "      <th>year</th>\n",
              "      <th>month</th>\n",
              "      <th>day</th>\n",
              "      <th>hour</th>\n",
              "      <th>minute</th>\n",
              "      <th>count</th>\n",
              "    </tr>\n",
              "  </thead>\n",
              "  <tbody>\n",
              "    <tr>\n",
              "      <th>count</th>\n",
              "      <td>93142.0</td>\n",
              "      <td>93142.000000</td>\n",
              "      <td>93142.000000</td>\n",
              "      <td>93142.000000</td>\n",
              "      <td>93142.000000</td>\n",
              "      <td>93142.0</td>\n",
              "    </tr>\n",
              "    <tr>\n",
              "      <th>mean</th>\n",
              "      <td>1970.0</td>\n",
              "      <td>2.424062</td>\n",
              "      <td>14.667830</td>\n",
              "      <td>11.635363</td>\n",
              "      <td>29.801711</td>\n",
              "      <td>1.0</td>\n",
              "    </tr>\n",
              "    <tr>\n",
              "      <th>std</th>\n",
              "      <td>0.0</td>\n",
              "      <td>0.995154</td>\n",
              "      <td>8.596967</td>\n",
              "      <td>7.816792</td>\n",
              "      <td>17.245034</td>\n",
              "      <td>0.0</td>\n",
              "    </tr>\n",
              "    <tr>\n",
              "      <th>min</th>\n",
              "      <td>1970.0</td>\n",
              "      <td>1.000000</td>\n",
              "      <td>1.000000</td>\n",
              "      <td>0.000000</td>\n",
              "      <td>0.000000</td>\n",
              "      <td>1.0</td>\n",
              "    </tr>\n",
              "    <tr>\n",
              "      <th>25%</th>\n",
              "      <td>1970.0</td>\n",
              "      <td>2.000000</td>\n",
              "      <td>7.000000</td>\n",
              "      <td>4.000000</td>\n",
              "      <td>15.000000</td>\n",
              "      <td>1.0</td>\n",
              "    </tr>\n",
              "    <tr>\n",
              "      <th>50%</th>\n",
              "      <td>1970.0</td>\n",
              "      <td>3.000000</td>\n",
              "      <td>14.000000</td>\n",
              "      <td>12.000000</td>\n",
              "      <td>30.000000</td>\n",
              "      <td>1.0</td>\n",
              "    </tr>\n",
              "    <tr>\n",
              "      <th>75%</th>\n",
              "      <td>1970.0</td>\n",
              "      <td>3.000000</td>\n",
              "      <td>22.000000</td>\n",
              "      <td>19.000000</td>\n",
              "      <td>45.000000</td>\n",
              "      <td>1.0</td>\n",
              "    </tr>\n",
              "    <tr>\n",
              "      <th>max</th>\n",
              "      <td>1970.0</td>\n",
              "      <td>4.000000</td>\n",
              "      <td>31.000000</td>\n",
              "      <td>23.000000</td>\n",
              "      <td>59.000000</td>\n",
              "      <td>1.0</td>\n",
              "    </tr>\n",
              "  </tbody>\n",
              "</table>\n",
              "</div>"
            ],
            "text/plain": [
              "          year         month           day          hour        minute    count\n",
              "count  93142.0  93142.000000  93142.000000  93142.000000  93142.000000  93142.0\n",
              "mean    1970.0      2.424062     14.667830     11.635363     29.801711      1.0\n",
              "std        0.0      0.995154      8.596967      7.816792     17.245034      0.0\n",
              "min     1970.0      1.000000      1.000000      0.000000      0.000000      1.0\n",
              "25%     1970.0      2.000000      7.000000      4.000000     15.000000      1.0\n",
              "50%     1970.0      3.000000     14.000000     12.000000     30.000000      1.0\n",
              "75%     1970.0      3.000000     22.000000     19.000000     45.000000      1.0\n",
              "max     1970.0      4.000000     31.000000     23.000000     59.000000      1.0"
            ]
          },
          "metadata": {
            "tags": []
          },
          "execution_count": 7
        }
      ]
    },
    {
      "cell_type": "markdown",
      "metadata": {
        "id": "_yF515Bgf8H2",
        "colab_type": "text"
      },
      "source": [
        "Visualize the data over different time periods."
      ]
    },
    {
      "cell_type": "code",
      "metadata": {
        "id": "q30J5oH31H_j",
        "colab_type": "code",
        "colab": {}
      },
      "source": [
        "whole = logins.groupby([pd.Grouper(key='login_time', freq='1W')])['count'].sum().reset_index()"
      ],
      "execution_count": 0,
      "outputs": []
    },
    {
      "cell_type": "code",
      "metadata": {
        "id": "6dpfIMDC2MJX",
        "colab_type": "code",
        "outputId": "a863f4a2-f09d-406a-ea92-9c972562ca73",
        "colab": {
          "base_uri": "https://localhost:8080/",
          "height": 408
        }
      },
      "source": [
        "chart = sns.lineplot(x='login_time',y='count', data=whole)\n",
        "chart.set_xticklabels(chart.get_xticklabels(), rotation=90)\n",
        "plt.ylabel('Login Counts')\n",
        "plt.title('Number of Weekly Logins');"
      ],
      "execution_count": 0,
      "outputs": [
        {
          "output_type": "stream",
          "text": [
            "/usr/local/lib/python3.6/dist-packages/pandas/plotting/_matplotlib/converter.py:103: FutureWarning: Using an implicitly registered datetime converter for a matplotlib plotting method. The converter was registered by pandas on import. Future versions of pandas will require you to explicitly register matplotlib converters.\n",
            "\n",
            "To register the converters:\n",
            "\t>>> from pandas.plotting import register_matplotlib_converters\n",
            "\t>>> register_matplotlib_converters()\n",
            "  warnings.warn(msg, FutureWarning)\n"
          ],
          "name": "stderr"
        },
        {
          "output_type": "display_data",
          "data": {
            "image/png": "[encoded data removed]",
            "text/plain": [
              "<Figure size 432x288 with 1 Axes>"
            ]
          },
          "metadata": {
            "tags": []
          }
        }
      ]
    },
    {
      "cell_type": "markdown",
      "metadata": {
        "id": "M1UhuFigzbIZ",
        "colab_type": "text"
      },
      "source": [
        "The data was collected in 1970 only, between January and April, thoughout the day. Let's investigate logins across the months"
      ]
    },
    {
      "cell_type": "code",
      "metadata": {
        "id": "F5I-2WwzzQ-y",
        "colab_type": "code",
        "outputId": "62d7ce24-b0b5-48ac-a2e2-9fd4b80f6afd",
        "colab": {
          "base_uri": "https://localhost:8080/",
          "height": 173
        }
      },
      "source": [
        "lgroup = logins.groupby(['month'])['count'].sum().reset_index()\n",
        "lgroup.head()"
      ],
      "execution_count": 0,
      "outputs": [
        {
          "output_type": "execute_result",
          "data": {
            "text/html": [
              "<div>\n",
              "<style scoped>\n",
              "    .dataframe tbody tr th:only-of-type {\n",
              "        vertical-align: middle;\n",
              "    }\n",
              "\n",
              "    .dataframe tbody tr th {\n",
              "        vertical-align: top;\n",
              "    }\n",
              "\n",
              "    .dataframe thead th {\n",
              "        text-align: right;\n",
              "    }\n",
              "</style>\n",
              "<table border=\"1\" class=\"dataframe\">\n",
              "  <thead>\n",
              "    <tr style=\"text-align: right;\">\n",
              "      <th></th>\n",
              "      <th>month</th>\n",
              "      <th>count</th>\n",
              "    </tr>\n",
              "  </thead>\n",
              "  <tbody>\n",
              "    <tr>\n",
              "      <th>0</th>\n",
              "      <td>1</td>\n",
              "      <td>21239</td>\n",
              "    </tr>\n",
              "    <tr>\n",
              "      <th>1</th>\n",
              "      <td>2</td>\n",
              "      <td>24673</td>\n",
              "    </tr>\n",
              "    <tr>\n",
              "      <th>2</th>\n",
              "      <td>3</td>\n",
              "      <td>33723</td>\n",
              "    </tr>\n",
              "    <tr>\n",
              "      <th>3</th>\n",
              "      <td>4</td>\n",
              "      <td>13507</td>\n",
              "    </tr>\n",
              "  </tbody>\n",
              "</table>\n",
              "</div>"
            ],
            "text/plain": [
              "   month  count\n",
              "0      1  21239\n",
              "1      2  24673\n",
              "2      3  33723\n",
              "3      4  13507"
            ]
          },
          "metadata": {
            "tags": []
          },
          "execution_count": 10
        }
      ]
    },
    {
      "cell_type": "code",
      "metadata": {
        "id": "IX3j_dizz_ti",
        "colab_type": "code",
        "outputId": "65a664a6-ea01-4f5e-f6a9-3b2f622c8842",
        "colab": {
          "base_uri": "https://localhost:8080/",
          "height": 295
        }
      },
      "source": [
        "sns.barplot(x='month', y='count', data=lgroup)\n",
        "plt.ylabel('Login Counts')\n",
        "plt.xlabel('Month')\n",
        "plt.title('Number of Logins over Four Months');"
      ],
      "execution_count": 0,
      "outputs": [
        {
          "output_type": "display_data",
          "data": {
            "image/png": "[encoded data removed]",
            "text/plain": [
              "<Figure size 432x288 with 1 Axes>"
            ]
          },
          "metadata": {
            "tags": []
          }
        }
      ]
    },
    {
      "cell_type": "markdown",
      "metadata": {
        "id": "IZuhNpmm6DBe",
        "colab_type": "text"
      },
      "source": [
        "There was a spike in logins in the month of March. Let's take a look at each month individually"
      ]
    },
    {
      "cell_type": "code",
      "metadata": {
        "id": "DWk7KEPs6cxa",
        "colab_type": "code",
        "outputId": "f28698ca-6764-43f9-f4ea-6bb9b0448407",
        "colab": {
          "base_uri": "https://localhost:8080/",
          "height": 295
        }
      },
      "source": [
        "jan = logins.loc[logins['month'] == 1].groupby(['day'])['count'].sum().reset_index()\n",
        "sns.lineplot(x='day', y='count', data=jan)\n",
        "plt.ylabel('Login Counts')\n",
        "plt.xlabel('Day')\n",
        "plt.title('Number of Logins over January');"
      ],
      "execution_count": 0,
      "outputs": [
        {
          "output_type": "display_data",
          "data": {
            "image/png": "[encoded data removed]",
            "text/plain": [
              "<Figure size 432x288 with 1 Axes>"
            ]
          },
          "metadata": {
            "tags": []
          }
        }
      ]
    },
    {
      "cell_type": "code",
      "metadata": {
        "id": "IQ_2MINt6_IJ",
        "colab_type": "code",
        "outputId": "713d857d-0a87-4dd0-cf45-792f725e7cdd",
        "colab": {
          "base_uri": "https://localhost:8080/",
          "height": 295
        }
      },
      "source": [
        "feb = logins.loc[logins['month'] == 2].groupby(['day'])['count'].sum().reset_index()\n",
        "sns.lineplot(x='day', y='count', data=feb)\n",
        "plt.ylabel('Login Counts')\n",
        "plt.xlabel('Day')\n",
        "plt.title('Number of Logins over February');"
      ],
      "execution_count": 0,
      "outputs": [
        {
          "output_type": "display_data",
          "data": {
            "image/png": "[encoded data removed]",
            "text/plain": [
              "<Figure size 432x288 with 1 Axes>"
            ]
          },
          "metadata": {
            "tags": []
          }
        }
      ]
    },
    {
      "cell_type": "code",
      "metadata": {
        "id": "iBnmAC3y7gZc",
        "colab_type": "code",
        "outputId": "39c0e8d7-6ff6-4780-f4fd-a0f95727dcff",
        "colab": {
          "base_uri": "https://localhost:8080/",
          "height": 295
        }
      },
      "source": [
        "mar = logins.loc[logins['month'] == 3].groupby(['day'])['count'].sum().reset_index()\n",
        "sns.lineplot(x='day', y='count', data=mar)\n",
        "plt.ylabel('Login Counts')\n",
        "plt.xlabel('Day')\n",
        "plt.title('Number of Logins over March');"
      ],
      "execution_count": 0,
      "outputs": [
        {
          "output_type": "display_data",
          "data": {
            "image/png": "[encoded data removed]",
            "text/plain": [
              "<Figure size 432x288 with 1 Axes>"
            ]
          },
          "metadata": {
            "tags": []
          }
        }
      ]
    },
    {
      "cell_type": "code",
      "metadata": {
        "id": "hwLfhalW7t_m",
        "colab_type": "code",
        "outputId": "77e624d2-698d-45c3-fb08-f0997438799f",
        "colab": {
          "base_uri": "https://localhost:8080/",
          "height": 295
        }
      },
      "source": [
        "apr = logins.loc[logins['month'] == 4].groupby(['day'])['count'].sum().reset_index()\n",
        "sns.lineplot(x='day', y='count', data=apr)\n",
        "plt.ylabel('Login Counts')\n",
        "plt.xlabel('Day')\n",
        "plt.title('Number of Logins over April');"
      ],
      "execution_count": 0,
      "outputs": [
        {
          "output_type": "display_data",
          "data": {
            "image/png": "[encoded data removed]",
            "text/plain": [
              "<Figure size 432x288 with 1 Axes>"
            ]
          },
          "metadata": {
            "tags": []
          }
        }
      ]
    },
    {
      "cell_type": "markdown",
      "metadata": {
        "id": "FPSEvpTYfGAU",
        "colab_type": "text"
      },
      "source": [
        "There are several spikes in logins over each month. Let's narrow in further with a look at activity on each day of the week."
      ]
    },
    {
      "cell_type": "code",
      "metadata": {
        "id": "GH6CKEIyfFom",
        "colab_type": "code",
        "outputId": "8f2516c8-89fb-4f31-f2f9-e897987df002",
        "colab": {
          "base_uri": "https://localhost:8080/",
          "height": 266
        }
      },
      "source": [
        "days_wk = ['Monday', 'Tuesday', 'Wednesday', 'Thursday', 'Friday', 'Saturday', 'Sunday']\n",
        "week = logins.groupby(['day_of_week'])['count'].sum().reindex(days_wk).reset_index()\n",
        "week.head(7)"
      ],
      "execution_count": 0,
      "outputs": [
        {
          "output_type": "execute_result",
          "data": {
            "text/html": [
              "<div>\n",
              "<style scoped>\n",
              "    .dataframe tbody tr th:only-of-type {\n",
              "        vertical-align: middle;\n",
              "    }\n",
              "\n",
              "    .dataframe tbody tr th {\n",
              "        vertical-align: top;\n",
              "    }\n",
              "\n",
              "    .dataframe thead th {\n",
              "        text-align: right;\n",
              "    }\n",
              "</style>\n",
              "<table border=\"1\" class=\"dataframe\">\n",
              "  <thead>\n",
              "    <tr style=\"text-align: right;\">\n",
              "      <th></th>\n",
              "      <th>day_of_week</th>\n",
              "      <th>count</th>\n",
              "    </tr>\n",
              "  </thead>\n",
              "  <tbody>\n",
              "    <tr>\n",
              "      <th>0</th>\n",
              "      <td>Monday</td>\n",
              "      <td>8823</td>\n",
              "    </tr>\n",
              "    <tr>\n",
              "      <th>1</th>\n",
              "      <td>Tuesday</td>\n",
              "      <td>9268</td>\n",
              "    </tr>\n",
              "    <tr>\n",
              "      <th>2</th>\n",
              "      <td>Wednesday</td>\n",
              "      <td>10339</td>\n",
              "    </tr>\n",
              "    <tr>\n",
              "      <th>3</th>\n",
              "      <td>Thursday</td>\n",
              "      <td>11960</td>\n",
              "    </tr>\n",
              "    <tr>\n",
              "      <th>4</th>\n",
              "      <td>Friday</td>\n",
              "      <td>15208</td>\n",
              "    </tr>\n",
              "    <tr>\n",
              "      <th>5</th>\n",
              "      <td>Saturday</td>\n",
              "      <td>19377</td>\n",
              "    </tr>\n",
              "    <tr>\n",
              "      <th>6</th>\n",
              "      <td>Sunday</td>\n",
              "      <td>18167</td>\n",
              "    </tr>\n",
              "  </tbody>\n",
              "</table>\n",
              "</div>"
            ],
            "text/plain": [
              "  day_of_week  count\n",
              "0      Monday   8823\n",
              "1     Tuesday   9268\n",
              "2   Wednesday  10339\n",
              "3    Thursday  11960\n",
              "4      Friday  15208\n",
              "5    Saturday  19377\n",
              "6      Sunday  18167"
            ]
          },
          "metadata": {
            "tags": []
          },
          "execution_count": 16
        }
      ]
    },
    {
      "cell_type": "code",
      "metadata": {
        "id": "IF7cj8Z7gFKv",
        "colab_type": "code",
        "outputId": "ddaa6ca3-ad38-4b64-b31e-9c7bca291917",
        "colab": {
          "base_uri": "https://localhost:8080/",
          "height": 334
        }
      },
      "source": [
        "dow = sns.barplot(x='day_of_week', y='count', data=week)\n",
        "dow.set_xticklabels(dow.get_xticklabels(), rotation=45, ha=\"right\")\n",
        "plt.ylabel('Login Counts')\n",
        "plt.xlabel('Day')\n",
        "plt.title('Login Activity on Each Day of the Week');\n",
        "plt.show()"
      ],
      "execution_count": 0,
      "outputs": [
        {
          "output_type": "display_data",
          "data": {
            "image/png": "[encoded data removed]",
            "text/plain": [
              "<Figure size 432x288 with 1 Axes>"
            ]
          },
          "metadata": {
            "tags": []
          }
        }
      ]
    },
    {
      "cell_type": "markdown",
      "metadata": {
        "id": "AUjxIdxgi2AH",
        "colab_type": "text"
      },
      "source": [
        "This plot above shows that the weekend is where most activity takes place. Now let's a take look at activity during the day to see at what time most logins take place."
      ]
    },
    {
      "cell_type": "code",
      "metadata": {
        "id": "2CH1wKtNgbLX",
        "colab_type": "code",
        "outputId": "6570ed9a-a5ce-4011-a6e6-a37529a19bdf",
        "colab": {
          "base_uri": "https://localhost:8080/",
          "height": 204
        }
      },
      "source": [
        "hr = logins.groupby(['hour'])['count'].sum().reset_index()\n",
        "hr.head()"
      ],
      "execution_count": 0,
      "outputs": [
        {
          "output_type": "execute_result",
          "data": {
            "text/html": [
              "<div>\n",
              "<style scoped>\n",
              "    .dataframe tbody tr th:only-of-type {\n",
              "        vertical-align: middle;\n",
              "    }\n",
              "\n",
              "    .dataframe tbody tr th {\n",
              "        vertical-align: top;\n",
              "    }\n",
              "\n",
              "    .dataframe thead th {\n",
              "        text-align: right;\n",
              "    }\n",
              "</style>\n",
              "<table border=\"1\" class=\"dataframe\">\n",
              "  <thead>\n",
              "    <tr style=\"text-align: right;\">\n",
              "      <th></th>\n",
              "      <th>hour</th>\n",
              "      <th>count</th>\n",
              "    </tr>\n",
              "  </thead>\n",
              "  <tbody>\n",
              "    <tr>\n",
              "      <th>0</th>\n",
              "      <td>0</td>\n",
              "      <td>5993</td>\n",
              "    </tr>\n",
              "    <tr>\n",
              "      <th>1</th>\n",
              "      <td>1</td>\n",
              "      <td>6317</td>\n",
              "    </tr>\n",
              "    <tr>\n",
              "      <th>2</th>\n",
              "      <td>2</td>\n",
              "      <td>5800</td>\n",
              "    </tr>\n",
              "    <tr>\n",
              "      <th>3</th>\n",
              "      <td>3</td>\n",
              "      <td>4831</td>\n",
              "    </tr>\n",
              "    <tr>\n",
              "      <th>4</th>\n",
              "      <td>4</td>\n",
              "      <td>5034</td>\n",
              "    </tr>\n",
              "  </tbody>\n",
              "</table>\n",
              "</div>"
            ],
            "text/plain": [
              "   hour  count\n",
              "0     0   5993\n",
              "1     1   6317\n",
              "2     2   5800\n",
              "3     3   4831\n",
              "4     4   5034"
            ]
          },
          "metadata": {
            "tags": []
          },
          "execution_count": 18
        }
      ]
    },
    {
      "cell_type": "code",
      "metadata": {
        "id": "t-W_0nKwkJTc",
        "colab_type": "code",
        "outputId": "00962c85-76bf-43a8-dce6-a699d39840cd",
        "colab": {
          "base_uri": "https://localhost:8080/",
          "height": 295
        }
      },
      "source": [
        "sns.barplot(x='hour', y='count', data=hr)\n",
        "plt.ylabel('Login Counts')\n",
        "plt.xlabel('Hour')\n",
        "plt.title('Login Activity on Each Hour of the Day');\n",
        "plt.show()"
      ],
      "execution_count": 0,
      "outputs": [
        {
          "output_type": "display_data",
          "data": {
            "image/png": "[encoded data removed]",
            "text/plain": [
              "<Figure size 432x288 with 1 Axes>"
            ]
          },
          "metadata": {
            "tags": []
          }
        }
      ]
    },
    {
      "cell_type": "markdown",
      "metadata": {
        "id": "smE_F-DOgwv9",
        "colab_type": "text"
      },
      "source": [
        "It appears most activity takes place during non-working hours and around the middle of the day (lunch time perhaps). Let's take a look at activity on a weekday vs weekend."
      ]
    },
    {
      "cell_type": "code",
      "metadata": {
        "id": "cUeAciv5lrRw",
        "colab_type": "code",
        "colab": {}
      },
      "source": [
        "wkdy = ['Monday', 'Tuesday', 'Wednesday', 'Thursday', 'Friday']\n",
        "wknd = ['Saturday', 'Sunday']"
      ],
      "execution_count": 0,
      "outputs": []
    },
    {
      "cell_type": "code",
      "metadata": {
        "id": "IQ5Jqq4CkdFt",
        "colab_type": "code",
        "outputId": "f2f744d8-ebbb-494f-d277-51edc9a96c5e",
        "colab": {
          "base_uri": "https://localhost:8080/",
          "height": 295
        }
      },
      "source": [
        "hr1 = logins.loc[logins['day_of_week'].isin(wkdy)].groupby(['hour'])['count'].sum().reset_index()\n",
        "sns.barplot(x='hour', y='count', data=hr1)\n",
        "plt.ylabel('Login Counts')\n",
        "plt.xlabel('Hour')\n",
        "plt.title('Login Activity on Each Hour of the Day - Weekday');\n",
        "plt.show()"
      ],
      "execution_count": 0,
      "outputs": [
        {
          "output_type": "display_data",
          "data": {
            "image/png": "[encoded data removed]",
            "text/plain": [
              "<Figure size 432x288 with 1 Axes>"
            ]
          },
          "metadata": {
            "tags": []
          }
        }
      ]
    },
    {
      "cell_type": "code",
      "metadata": {
        "id": "OUp5KCtmmK6k",
        "colab_type": "code",
        "outputId": "0d419800-d303-4475-bd81-81c50652049f",
        "colab": {
          "base_uri": "https://localhost:8080/",
          "height": 295
        }
      },
      "source": [
        "hr2 = logins.loc[logins['day_of_week'].isin(wknd)].groupby(['hour'])['count'].sum().reset_index()\n",
        "sns.barplot(x='hour', y='count', data=hr2)\n",
        "plt.ylabel('Login Counts')\n",
        "plt.xlabel('Hour')\n",
        "plt.title('Login Activity on Each Hour of the Day - Weekend');\n",
        "plt.show()"
      ],
      "execution_count": 0,
      "outputs": [
        {
          "output_type": "display_data",
          "data": {
            "image/png": "[encoded data removed]",
            "text/plain": [
              "<Figure size 432x288 with 1 Axes>"
            ]
          },
          "metadata": {
            "tags": []
          }
        }
      ]
    },
    {
      "cell_type": "markdown",
      "metadata": {
        "id": "vUSMe7B1hE3b",
        "colab_type": "text"
      },
      "source": [
        "From the 2 plots above, it appears login activity spikes at non-working hours during the week, while on weekends there are usage spikes at the early hours of the morning."
      ]
    },
    {
      "cell_type": "markdown",
      "metadata": {
        "id": "_SWIIiI7hWyh",
        "colab_type": "text"
      },
      "source": [
        "## Part 2 - Experiment and Metrics Design\n",
        "The neighboring cities of Gotham and Metropolis have complementary circadian rhythms: on\n",
        "weekdays, Ultimate Gotham is most active at night, and Ultimate Metropolis is most active\n",
        "during the day. On weekends, there is reasonable activity in both cities.\n",
        "\n",
        "However, a toll bridge, with a two way\n",
        "toll, between the two cities causes driver partners to tend\n",
        "to be exclusive to each city. The Ultimate managers of city operations for the two cities have\n",
        "proposed an experiment to encourage driver partners to be available in both cities, by\n",
        "reimbursing all toll costs.\n",
        "1. What would you choose as the key measure of success of this experiment in\n",
        "encouraging driver partners to serve both cities, and why would you choose this metric?\n",
        "2. Describe a practical experiment you would design to compare the effectiveness of the\n",
        "proposed change in relation to the key measure of success. Please provide details on:\n",
        "a. how you will implement the experiment\n",
        "b. what statistical test(s) you will conduct to verify the significance of the\n",
        "observation\n",
        "c. how you would interpret the results and provide recommendations to the city\n",
        "operations team along with any caveats."
      ]
    },
    {
      "cell_type": "markdown",
      "metadata": {
        "id": "pkVBaDNIhrvZ",
        "colab_type": "text"
      },
      "source": [
        "**Solution**\n",
        "\n",
        "The metric I would choose is the percentage of trips in each city versus trips serving both cities (starting the trip in one city and ending it across the toll bridge to the other city). This experiment would be carried out before and after toll costs are reimbursed.\n",
        "\n",
        "This would indicate whether there is an increase, decrease or no change in drivers serving both cities.\n",
        "Data needed:\n",
        "*   Driver ID\n",
        "*   Trip start and end coordinates\n",
        "*   Trip start and end timestamp\n",
        "*   Toll paid\n",
        "*   City affiliation - Ultimate Gotham or Ultimate Metropolis\n",
        "*   Fare cost\n",
        "*   Number of passengers\n",
        "\n",
        "This data can be gleaned from the application used to hail the drivers.\n"
      ]
    },
    {
      "cell_type": "markdown",
      "metadata": {
        "id": "AtxPbyi_h6Mu",
        "colab_type": "text"
      },
      "source": [
        "## Part 3 - Predictive Modeling\n",
        "Ultimate is interested in predicting rider retention. To help explore this question, we have\n",
        "provided a sample dataset of a cohort of users who signed up for an Ultimate account in\n",
        "January 2014. The data was pulled several months later; we consider a user retained if they\n",
        "were “active” (i.e. took a trip) in the preceding 30 days.\n",
        "\n",
        "We would like you to use this data set to help understand what factors are the best predictors\n",
        "for retention, and offer suggestions to operationalize those insights to help Ultimate.\n",
        "\n",
        "1. Perform any cleaning, exploratory analysis, and/or visualizations to use the provided\n",
        "data for this analysis (a few sentences/plots describing your approach will suffice). What\n",
        "fraction of the observed users were retained?\n",
        "2. Build a predictive model to help Ultimate determine whether or not a user will be active\n",
        "in their 6th month on the system. Discuss why you chose your approach, what\n",
        "alternatives you considered, and any concerns you have. How valid is your model?\n",
        "Include any key indicators of model performance.\n",
        "3. Briefly discuss how Ultimate might leverage the insights gained from the model to\n",
        "improve its longterm\n",
        "rider retention (again, a few sentences will suffice)."
      ]
    },
    {
      "cell_type": "code",
      "metadata": {
        "id": "lDsubBpVmak2",
        "colab_type": "code",
        "outputId": "e220351c-73ae-42fb-cffd-ee9b87f81b8c",
        "colab": {
          "base_uri": "https://localhost:8080/",
          "height": 204
        }
      },
      "source": [
        "with open('ultimate_data_challenge.json') as f:\n",
        "   data = json.load(f)\n",
        "ultimate = pd.DataFrame(data)\n",
        "ultimate.head()"
      ],
      "execution_count": 0,
      "outputs": [
        {
          "output_type": "execute_result",
          "data": {
            "text/html": [
              "<div>\n",
              "<style scoped>\n",
              "    .dataframe tbody tr th:only-of-type {\n",
              "        vertical-align: middle;\n",
              "    }\n",
              "\n",
              "    .dataframe tbody tr th {\n",
              "        vertical-align: top;\n",
              "    }\n",
              "\n",
              "    .dataframe thead th {\n",
              "        text-align: right;\n",
              "    }\n",
              "</style>\n",
              "<table border=\"1\" class=\"dataframe\">\n",
              "  <thead>\n",
              "    <tr style=\"text-align: right;\">\n",
              "      <th></th>\n",
              "      <th>city</th>\n",
              "      <th>trips_in_first_30_days</th>\n",
              "      <th>signup_date</th>\n",
              "      <th>avg_rating_of_driver</th>\n",
              "      <th>avg_surge</th>\n",
              "      <th>last_trip_date</th>\n",
              "      <th>phone</th>\n",
              "      <th>surge_pct</th>\n",
              "      <th>ultimate_black_user</th>\n",
              "      <th>weekday_pct</th>\n",
              "      <th>avg_dist</th>\n",
              "      <th>avg_rating_by_driver</th>\n",
              "    </tr>\n",
              "  </thead>\n",
              "  <tbody>\n",
              "    <tr>\n",
              "      <th>0</th>\n",
              "      <td>King's Landing</td>\n",
              "      <td>4</td>\n",
              "      <td>2014-01-25</td>\n",
              "      <td>4.7</td>\n",
              "      <td>1.10</td>\n",
              "      <td>2014-06-17</td>\n",
              "      <td>iPhone</td>\n",
              "      <td>15.4</td>\n",
              "      <td>True</td>\n",
              "      <td>46.2</td>\n",
              "      <td>3.67</td>\n",
              "      <td>5.0</td>\n",
              "    </tr>\n",
              "    <tr>\n",
              "      <th>1</th>\n",
              "      <td>Astapor</td>\n",
              "      <td>0</td>\n",
              "      <td>2014-01-29</td>\n",
              "      <td>5.0</td>\n",
              "      <td>1.00</td>\n",
              "      <td>2014-05-05</td>\n",
              "      <td>Android</td>\n",
              "      <td>0.0</td>\n",
              "      <td>False</td>\n",
              "      <td>50.0</td>\n",
              "      <td>8.26</td>\n",
              "      <td>5.0</td>\n",
              "    </tr>\n",
              "    <tr>\n",
              "      <th>2</th>\n",
              "      <td>Astapor</td>\n",
              "      <td>3</td>\n",
              "      <td>2014-01-06</td>\n",
              "      <td>4.3</td>\n",
              "      <td>1.00</td>\n",
              "      <td>2014-01-07</td>\n",
              "      <td>iPhone</td>\n",
              "      <td>0.0</td>\n",
              "      <td>False</td>\n",
              "      <td>100.0</td>\n",
              "      <td>0.77</td>\n",
              "      <td>5.0</td>\n",
              "    </tr>\n",
              "    <tr>\n",
              "      <th>3</th>\n",
              "      <td>King's Landing</td>\n",
              "      <td>9</td>\n",
              "      <td>2014-01-10</td>\n",
              "      <td>4.6</td>\n",
              "      <td>1.14</td>\n",
              "      <td>2014-06-29</td>\n",
              "      <td>iPhone</td>\n",
              "      <td>20.0</td>\n",
              "      <td>True</td>\n",
              "      <td>80.0</td>\n",
              "      <td>2.36</td>\n",
              "      <td>4.9</td>\n",
              "    </tr>\n",
              "    <tr>\n",
              "      <th>4</th>\n",
              "      <td>Winterfell</td>\n",
              "      <td>14</td>\n",
              "      <td>2014-01-27</td>\n",
              "      <td>4.4</td>\n",
              "      <td>1.19</td>\n",
              "      <td>2014-03-15</td>\n",
              "      <td>Android</td>\n",
              "      <td>11.8</td>\n",
              "      <td>False</td>\n",
              "      <td>82.4</td>\n",
              "      <td>3.13</td>\n",
              "      <td>4.9</td>\n",
              "    </tr>\n",
              "  </tbody>\n",
              "</table>\n",
              "</div>"
            ],
            "text/plain": [
              "             city  trips_in_first_30_days  ... avg_dist  avg_rating_by_driver\n",
              "0  King's Landing                       4  ...     3.67                   5.0\n",
              "1         Astapor                       0  ...     8.26                   5.0\n",
              "2         Astapor                       3  ...     0.77                   5.0\n",
              "3  King's Landing                       9  ...     2.36                   4.9\n",
              "4      Winterfell                      14  ...     3.13                   4.9\n",
              "\n",
              "[5 rows x 12 columns]"
            ]
          },
          "metadata": {
            "tags": []
          },
          "execution_count": 23
        }
      ]
    },
    {
      "cell_type": "markdown",
      "metadata": {
        "id": "-ROBEXIpav3o",
        "colab_type": "text"
      },
      "source": [
        "#### Data Exploration and Cleaning\n",
        "\n",
        "For this step, we'll look for data types, convert dates columns to date format and fill in missing values."
      ]
    },
    {
      "cell_type": "code",
      "metadata": {
        "id": "3Es_m1b954dO",
        "colab_type": "code",
        "outputId": "82504015-53f3-4dd5-985d-9a44f1a30042",
        "colab": {
          "base_uri": "https://localhost:8080/",
          "height": 306
        }
      },
      "source": [
        "ultimate.info()"
      ],
      "execution_count": 0,
      "outputs": [
        {
          "output_type": "stream",
          "text": [
            "<class 'pandas.core.frame.DataFrame'>\n",
            "RangeIndex: 50000 entries, 0 to 49999\n",
            "Data columns (total 12 columns):\n",
            "city                      50000 non-null object\n",
            "trips_in_first_30_days    50000 non-null int64\n",
            "signup_date               50000 non-null object\n",
            "avg_rating_of_driver      41878 non-null float64\n",
            "avg_surge                 50000 non-null float64\n",
            "last_trip_date            50000 non-null object\n",
            "phone                     49604 non-null object\n",
            "surge_pct                 50000 non-null float64\n",
            "ultimate_black_user       50000 non-null bool\n",
            "weekday_pct               50000 non-null float64\n",
            "avg_dist                  50000 non-null float64\n",
            "avg_rating_by_driver      49799 non-null float64\n",
            "dtypes: bool(1), float64(6), int64(1), object(4)\n",
            "memory usage: 4.2+ MB\n"
          ],
          "name": "stdout"
        }
      ]
    },
    {
      "cell_type": "code",
      "metadata": {
        "id": "EfN6KVZx61mf",
        "colab_type": "code",
        "colab": {}
      },
      "source": [
        "#convert date columns to date format\n",
        "ultimate['signup_date'] = pd.to_datetime(ultimate['signup_date'])\n",
        "ultimate['last_trip_date'] = pd.to_datetime(ultimate['last_trip_date'])"
      ],
      "execution_count": 0,
      "outputs": []
    },
    {
      "cell_type": "code",
      "metadata": {
        "id": "ccnLV3Xf7C9W",
        "colab_type": "code",
        "outputId": "33630eb9-9b0b-4e38-9c72-9a525e170efd",
        "colab": {
          "base_uri": "https://localhost:8080/",
          "height": 238
        }
      },
      "source": [
        "ultimate.isnull().sum()"
      ],
      "execution_count": 0,
      "outputs": [
        {
          "output_type": "execute_result",
          "data": {
            "text/plain": [
              "city                         0\n",
              "trips_in_first_30_days       0\n",
              "signup_date                  0\n",
              "avg_rating_of_driver      8122\n",
              "avg_surge                    0\n",
              "last_trip_date               0\n",
              "phone                      396\n",
              "surge_pct                    0\n",
              "ultimate_black_user          0\n",
              "weekday_pct                  0\n",
              "avg_dist                     0\n",
              "avg_rating_by_driver       201\n",
              "dtype: int64"
            ]
          },
          "metadata": {
            "tags": []
          },
          "execution_count": 26
        }
      ]
    },
    {
      "cell_type": "markdown",
      "metadata": {
        "id": "eMaorNuq7Zln",
        "colab_type": "text"
      },
      "source": [
        "There are some null values to be filled. For the average rating columns, the null values will be filled with the mean value of the respective columns."
      ]
    },
    {
      "cell_type": "code",
      "metadata": {
        "id": "qZlrPVLO7U4I",
        "colab_type": "code",
        "colab": {}
      },
      "source": [
        "ultimate['avg_rating_of_driver'].fillna((ultimate['avg_rating_of_driver'].mean()), inplace=True)\n",
        "ultimate['avg_rating_by_driver'].fillna((ultimate['avg_rating_by_driver'].mean()), inplace=True)"
      ],
      "execution_count": 0,
      "outputs": []
    },
    {
      "cell_type": "code",
      "metadata": {
        "id": "rLmXNmEf9uGm",
        "colab_type": "code",
        "outputId": "b7829d38-57f7-4168-e197-679e3ca87a75",
        "colab": {
          "base_uri": "https://localhost:8080/",
          "height": 238
        }
      },
      "source": [
        "ultimate.isnull().sum()"
      ],
      "execution_count": 0,
      "outputs": [
        {
          "output_type": "execute_result",
          "data": {
            "text/plain": [
              "city                        0\n",
              "trips_in_first_30_days      0\n",
              "signup_date                 0\n",
              "avg_rating_of_driver        0\n",
              "avg_surge                   0\n",
              "last_trip_date              0\n",
              "phone                     396\n",
              "surge_pct                   0\n",
              "ultimate_black_user         0\n",
              "weekday_pct                 0\n",
              "avg_dist                    0\n",
              "avg_rating_by_driver        0\n",
              "dtype: int64"
            ]
          },
          "metadata": {
            "tags": []
          },
          "execution_count": 28
        }
      ]
    },
    {
      "cell_type": "markdown",
      "metadata": {
        "id": "L-DdU7jZ973X",
        "colab_type": "text"
      },
      "source": [
        "There are still some null values in the phone column - 396 or 0.8% of the dataset. The null values can be replaced by either one of the phone types or deleted. To fill in the null values, the two phone types ('Iphone' or 'Android Phone') will be randomly assigned. This should remove the last of the missing values in the dataframe."
      ]
    },
    {
      "cell_type": "code",
      "metadata": {
        "id": "UkWjk2vs91cT",
        "colab_type": "code",
        "colab": {}
      },
      "source": [
        "ultimate['phone'].fillna(random.choice(['iPhone','Android Phone']), inplace =True)"
      ],
      "execution_count": 0,
      "outputs": []
    },
    {
      "cell_type": "code",
      "metadata": {
        "id": "yLujYZjh-y9d",
        "colab_type": "code",
        "outputId": "76eb76c2-e661-463c-ebd3-fa3ee04afa46",
        "colab": {
          "base_uri": "https://localhost:8080/",
          "height": 306
        }
      },
      "source": [
        "ultimate.info()"
      ],
      "execution_count": 0,
      "outputs": [
        {
          "output_type": "stream",
          "text": [
            "<class 'pandas.core.frame.DataFrame'>\n",
            "RangeIndex: 50000 entries, 0 to 49999\n",
            "Data columns (total 12 columns):\n",
            "city                      50000 non-null object\n",
            "trips_in_first_30_days    50000 non-null int64\n",
            "signup_date               50000 non-null datetime64[ns]\n",
            "avg_rating_of_driver      50000 non-null float64\n",
            "avg_surge                 50000 non-null float64\n",
            "last_trip_date            50000 non-null datetime64[ns]\n",
            "phone                     50000 non-null object\n",
            "surge_pct                 50000 non-null float64\n",
            "ultimate_black_user       50000 non-null bool\n",
            "weekday_pct               50000 non-null float64\n",
            "avg_dist                  50000 non-null float64\n",
            "avg_rating_by_driver      50000 non-null float64\n",
            "dtypes: bool(1), datetime64[ns](2), float64(6), int64(1), object(2)\n",
            "memory usage: 4.2+ MB\n"
          ],
          "name": "stdout"
        }
      ]
    },
    {
      "cell_type": "markdown",
      "metadata": {
        "id": "ZblNrwmP-5xv",
        "colab_type": "text"
      },
      "source": [
        "#### Data Visualization\n",
        "Now that our data has been cleaned, let's look at some visualizations of the dataset."
      ]
    },
    {
      "cell_type": "code",
      "metadata": {
        "id": "1zJsdPcUGxH9",
        "colab_type": "code",
        "outputId": "a9d880c7-a4c1-4719-e2c2-fe6b883372b3",
        "colab": {
          "base_uri": "https://localhost:8080/",
          "height": 295
        }
      },
      "source": [
        "sns.countplot(x='city', data=ultimate)\n",
        "plt.ylabel('Number of Users')\n",
        "plt.xlabel('City')\n",
        "plt.title('Number of Users by City');"
      ],
      "execution_count": 0,
      "outputs": [
        {
          "output_type": "display_data",
          "data": {
            "image/png": "[encoded data removed]",
            "text/plain": [
              "<Figure size 432x288 with 1 Axes>"
            ]
          },
          "metadata": {
            "tags": []
          }
        }
      ]
    },
    {
      "cell_type": "code",
      "metadata": {
        "id": "rm_jJBUxHSDa",
        "colab_type": "code",
        "outputId": "3b4e2814-62df-492e-b66b-84640c3f47c2",
        "colab": {
          "base_uri": "https://localhost:8080/",
          "height": 295
        }
      },
      "source": [
        "sns.countplot(x='phone', data=ultimate)\n",
        "plt.ylabel('Number of Users')\n",
        "plt.xlabel('Phone')\n",
        "plt.title('Number of Users by Phone');"
      ],
      "execution_count": 0,
      "outputs": [
        {
          "output_type": "display_data",
          "data": {
            "image/png": "[encoded data removed]",
            "text/plain": [
              "<Figure size 432x288 with 1 Axes>"
            ]
          },
          "metadata": {
            "tags": []
          }
        }
      ]
    },
    {
      "cell_type": "code",
      "metadata": {
        "id": "fqfEg9D-HZoB",
        "colab_type": "code",
        "outputId": "1a9b7816-feb0-4817-ec58-5bedb0e52781",
        "colab": {
          "base_uri": "https://localhost:8080/",
          "height": 295
        }
      },
      "source": [
        "sns.barplot(x='city', y='avg_dist', data=ultimate)\n",
        "plt.ylabel('Average Distance (Miles)')\n",
        "plt.xlabel('City')\n",
        "plt.title('Average Distance Travelled by Users per City');"
      ],
      "execution_count": 0,
      "outputs": [
        {
          "output_type": "display_data",
          "data": {
            "image/png": "[encoded data removed]",
            "text/plain": [
              "<Figure size 432x288 with 1 Axes>"
            ]
          },
          "metadata": {
            "tags": []
          }
        }
      ]
    },
    {
      "cell_type": "code",
      "metadata": {
        "id": "QXuLkyHzpoLG",
        "colab_type": "code",
        "outputId": "c676f698-6dc5-47ef-d7de-f971c5f503ab",
        "colab": {
          "base_uri": "https://localhost:8080/",
          "height": 299
        }
      },
      "source": [
        "sns.countplot(x='trips_in_first_30_days', data=ultimate)"
      ],
      "execution_count": 0,
      "outputs": [
        {
          "output_type": "execute_result",
          "data": {
            "text/plain": [
              "<matplotlib.axes._subplots.AxesSubplot at 0x7f5a0cd09b70>"
            ]
          },
          "metadata": {
            "tags": []
          },
          "execution_count": 34
        },
        {
          "output_type": "display_data",
          "data": {
            "image/png": "[encoded data removed]",
            "text/plain": [
              "<Figure size 432x288 with 1 Axes>"
            ]
          },
          "metadata": {
            "tags": []
          }
        }
      ]
    },
    {
      "cell_type": "markdown",
      "metadata": {
        "id": "nbfBVpZwbnwg",
        "colab_type": "text"
      },
      "source": [
        "#### Data Modeling\n",
        "A user is designated as 'active' if they took a trip in the last 30 days. To determine active users, the 30-day time period for the data set needs to be determined (the last date in the dataset under the last_trip_date column is extracted and 30 days are counted from that point).\n",
        "\n",
        "From there, a count is taken of all the users that had a trip in that time period. The fraction of users that are considered active will be this count divided by the total number of users in the dataset (50,000)."
      ]
    },
    {
      "cell_type": "code",
      "metadata": {
        "id": "807cmDmmta1U",
        "colab_type": "code",
        "outputId": "2bf728c0-e671-4653-f08d-bf2dfb94a9ed",
        "colab": {
          "base_uri": "https://localhost:8080/",
          "height": 51
        }
      },
      "source": [
        "#The trips made in the last 30 days are to be determined. First let's get the last date of the data\n",
        "ultimate[['last_trip_date']].max()"
      ],
      "execution_count": 0,
      "outputs": [
        {
          "output_type": "execute_result",
          "data": {
            "text/plain": [
              "last_trip_date   2014-07-01\n",
              "dtype: datetime64[ns]"
            ]
          },
          "metadata": {
            "tags": []
          },
          "execution_count": 35
        }
      ]
    },
    {
      "cell_type": "code",
      "metadata": {
        "id": "JFZtBHwqF1Cr",
        "colab_type": "code",
        "colab": {}
      },
      "source": [
        "#find the no. of rows with trips in the last 30 days\n",
        "retained = len(ultimate[(ultimate['last_trip_date'] >= '2014-05-31')])"
      ],
      "execution_count": 0,
      "outputs": []
    },
    {
      "cell_type": "code",
      "metadata": {
        "id": "cM7hxDtxHleN",
        "colab_type": "code",
        "outputId": "0bccc187-54b6-4125-b4b0-b0d8e5d8072a",
        "colab": {
          "base_uri": "https://localhost:8080/",
          "height": 34
        }
      },
      "source": [
        "#percentage of retained users\n",
        "print (\"{0:.2f}\".format((retained/len(ultimate))*100),\"%\")"
      ],
      "execution_count": 0,
      "outputs": [
        {
          "output_type": "stream",
          "text": [
            "38.45 %\n"
          ],
          "name": "stdout"
        }
      ]
    },
    {
      "cell_type": "markdown",
      "metadata": {
        "id": "8fgsxJ4rt7Lx",
        "colab_type": "text"
      },
      "source": [
        "Let's add a column to the dataframe to identify active users - users that took a trip in the last month as recorded in the data set (i.e. the month of June and first day of July)."
      ]
    },
    {
      "cell_type": "code",
      "metadata": {
        "id": "-DCUI5myKDOO",
        "colab_type": "code",
        "colab": {}
      },
      "source": [
        "ultimate['active'] = np.where(ultimate['last_trip_date']>= '2014-06-01', 1, 0)"
      ],
      "execution_count": 0,
      "outputs": []
    },
    {
      "cell_type": "code",
      "metadata": {
        "id": "IUhFS1BKtZkU",
        "colab_type": "code",
        "outputId": "359999a3-a48a-48e0-b8e5-563cd9a6f33a",
        "colab": {
          "base_uri": "https://localhost:8080/",
          "height": 258
        }
      },
      "source": [
        "ultimate.head()"
      ],
      "execution_count": 0,
      "outputs": [
        {
          "output_type": "execute_result",
          "data": {
            "text/html": [
              "<div>\n",
              "<style scoped>\n",
              "    .dataframe tbody tr th:only-of-type {\n",
              "        vertical-align: middle;\n",
              "    }\n",
              "\n",
              "    .dataframe tbody tr th {\n",
              "        vertical-align: top;\n",
              "    }\n",
              "\n",
              "    .dataframe thead th {\n",
              "        text-align: right;\n",
              "    }\n",
              "</style>\n",
              "<table border=\"1\" class=\"dataframe\">\n",
              "  <thead>\n",
              "    <tr style=\"text-align: right;\">\n",
              "      <th></th>\n",
              "      <th>city</th>\n",
              "      <th>trips_in_first_30_days</th>\n",
              "      <th>signup_date</th>\n",
              "      <th>avg_rating_of_driver</th>\n",
              "      <th>avg_surge</th>\n",
              "      <th>last_trip_date</th>\n",
              "      <th>phone</th>\n",
              "      <th>surge_pct</th>\n",
              "      <th>ultimate_black_user</th>\n",
              "      <th>weekday_pct</th>\n",
              "      <th>avg_dist</th>\n",
              "      <th>avg_rating_by_driver</th>\n",
              "      <th>active</th>\n",
              "    </tr>\n",
              "  </thead>\n",
              "  <tbody>\n",
              "    <tr>\n",
              "      <th>0</th>\n",
              "      <td>King's Landing</td>\n",
              "      <td>4</td>\n",
              "      <td>2014-01-25</td>\n",
              "      <td>4.7</td>\n",
              "      <td>1.10</td>\n",
              "      <td>2014-06-17</td>\n",
              "      <td>iPhone</td>\n",
              "      <td>15.4</td>\n",
              "      <td>True</td>\n",
              "      <td>46.2</td>\n",
              "      <td>3.67</td>\n",
              "      <td>5.0</td>\n",
              "      <td>1</td>\n",
              "    </tr>\n",
              "    <tr>\n",
              "      <th>1</th>\n",
              "      <td>Astapor</td>\n",
              "      <td>0</td>\n",
              "      <td>2014-01-29</td>\n",
              "      <td>5.0</td>\n",
              "      <td>1.00</td>\n",
              "      <td>2014-05-05</td>\n",
              "      <td>Android</td>\n",
              "      <td>0.0</td>\n",
              "      <td>False</td>\n",
              "      <td>50.0</td>\n",
              "      <td>8.26</td>\n",
              "      <td>5.0</td>\n",
              "      <td>0</td>\n",
              "    </tr>\n",
              "    <tr>\n",
              "      <th>2</th>\n",
              "      <td>Astapor</td>\n",
              "      <td>3</td>\n",
              "      <td>2014-01-06</td>\n",
              "      <td>4.3</td>\n",
              "      <td>1.00</td>\n",
              "      <td>2014-01-07</td>\n",
              "      <td>iPhone</td>\n",
              "      <td>0.0</td>\n",
              "      <td>False</td>\n",
              "      <td>100.0</td>\n",
              "      <td>0.77</td>\n",
              "      <td>5.0</td>\n",
              "      <td>0</td>\n",
              "    </tr>\n",
              "    <tr>\n",
              "      <th>3</th>\n",
              "      <td>King's Landing</td>\n",
              "      <td>9</td>\n",
              "      <td>2014-01-10</td>\n",
              "      <td>4.6</td>\n",
              "      <td>1.14</td>\n",
              "      <td>2014-06-29</td>\n",
              "      <td>iPhone</td>\n",
              "      <td>20.0</td>\n",
              "      <td>True</td>\n",
              "      <td>80.0</td>\n",
              "      <td>2.36</td>\n",
              "      <td>4.9</td>\n",
              "      <td>1</td>\n",
              "    </tr>\n",
              "    <tr>\n",
              "      <th>4</th>\n",
              "      <td>Winterfell</td>\n",
              "      <td>14</td>\n",
              "      <td>2014-01-27</td>\n",
              "      <td>4.4</td>\n",
              "      <td>1.19</td>\n",
              "      <td>2014-03-15</td>\n",
              "      <td>Android</td>\n",
              "      <td>11.8</td>\n",
              "      <td>False</td>\n",
              "      <td>82.4</td>\n",
              "      <td>3.13</td>\n",
              "      <td>4.9</td>\n",
              "      <td>0</td>\n",
              "    </tr>\n",
              "  </tbody>\n",
              "</table>\n",
              "</div>"
            ],
            "text/plain": [
              "             city  trips_in_first_30_days  ... avg_rating_by_driver  active\n",
              "0  King's Landing                       4  ...                  5.0       1\n",
              "1         Astapor                       0  ...                  5.0       0\n",
              "2         Astapor                       3  ...                  5.0       0\n",
              "3  King's Landing                       9  ...                  4.9       1\n",
              "4      Winterfell                      14  ...                  4.9       0\n",
              "\n",
              "[5 rows x 13 columns]"
            ]
          },
          "metadata": {
            "tags": []
          },
          "execution_count": 39
        }
      ]
    },
    {
      "cell_type": "markdown",
      "metadata": {
        "id": "zLGop3fdurs8",
        "colab_type": "text"
      },
      "source": [
        "To prepare our data for model training, let's encode some of the categorical columns like \"phone\", \"city\" and \"ultimate_black_user\"."
      ]
    },
    {
      "cell_type": "code",
      "metadata": {
        "id": "efNJLCXAtdN4",
        "colab_type": "code",
        "colab": {}
      },
      "source": [
        "le = LabelEncoder()"
      ],
      "execution_count": 0,
      "outputs": []
    },
    {
      "cell_type": "code",
      "metadata": {
        "id": "Npxh5vkVwOoF",
        "colab_type": "code",
        "colab": {}
      },
      "source": [
        "ultimate['city']=le.fit_transform(ultimate['city'])\n",
        "ultimate['phone']=le.fit_transform(ultimate['phone'])\n",
        "ultimate['ultimate_black_user']=le.fit_transform(ultimate['ultimate_black_user'])\n",
        "ultimate = pd.get_dummies(ultimate, columns=['city'])"
      ],
      "execution_count": 0,
      "outputs": []
    },
    {
      "cell_type": "code",
      "metadata": {
        "id": "y6SqJ1DuwDcB",
        "colab_type": "code",
        "outputId": "655ec325-9102-46c7-9d94-d77844e21cf7",
        "colab": {
          "base_uri": "https://localhost:8080/",
          "height": 224
        }
      },
      "source": [
        "ultimate.head()"
      ],
      "execution_count": 0,
      "outputs": [
        {
          "output_type": "execute_result",
          "data": {
            "text/html": [
              "<div>\n",
              "<style scoped>\n",
              "    .dataframe tbody tr th:only-of-type {\n",
              "        vertical-align: middle;\n",
              "    }\n",
              "\n",
              "    .dataframe tbody tr th {\n",
              "        vertical-align: top;\n",
              "    }\n",
              "\n",
              "    .dataframe thead th {\n",
              "        text-align: right;\n",
              "    }\n",
              "</style>\n",
              "<table border=\"1\" class=\"dataframe\">\n",
              "  <thead>\n",
              "    <tr style=\"text-align: right;\">\n",
              "      <th></th>\n",
              "      <th>trips_in_first_30_days</th>\n",
              "      <th>signup_date</th>\n",
              "      <th>avg_rating_of_driver</th>\n",
              "      <th>avg_surge</th>\n",
              "      <th>last_trip_date</th>\n",
              "      <th>phone</th>\n",
              "      <th>surge_pct</th>\n",
              "      <th>ultimate_black_user</th>\n",
              "      <th>weekday_pct</th>\n",
              "      <th>avg_dist</th>\n",
              "      <th>avg_rating_by_driver</th>\n",
              "      <th>active</th>\n",
              "      <th>city_0</th>\n",
              "      <th>city_1</th>\n",
              "      <th>city_2</th>\n",
              "    </tr>\n",
              "  </thead>\n",
              "  <tbody>\n",
              "    <tr>\n",
              "      <th>0</th>\n",
              "      <td>4</td>\n",
              "      <td>2014-01-25</td>\n",
              "      <td>4.7</td>\n",
              "      <td>1.10</td>\n",
              "      <td>2014-06-17</td>\n",
              "      <td>2</td>\n",
              "      <td>15.4</td>\n",
              "      <td>1</td>\n",
              "      <td>46.2</td>\n",
              "      <td>3.67</td>\n",
              "      <td>5.0</td>\n",
              "      <td>1</td>\n",
              "      <td>0</td>\n",
              "      <td>1</td>\n",
              "      <td>0</td>\n",
              "    </tr>\n",
              "    <tr>\n",
              "      <th>1</th>\n",
              "      <td>0</td>\n",
              "      <td>2014-01-29</td>\n",
              "      <td>5.0</td>\n",
              "      <td>1.00</td>\n",
              "      <td>2014-05-05</td>\n",
              "      <td>0</td>\n",
              "      <td>0.0</td>\n",
              "      <td>0</td>\n",
              "      <td>50.0</td>\n",
              "      <td>8.26</td>\n",
              "      <td>5.0</td>\n",
              "      <td>0</td>\n",
              "      <td>1</td>\n",
              "      <td>0</td>\n",
              "      <td>0</td>\n",
              "    </tr>\n",
              "    <tr>\n",
              "      <th>2</th>\n",
              "      <td>3</td>\n",
              "      <td>2014-01-06</td>\n",
              "      <td>4.3</td>\n",
              "      <td>1.00</td>\n",
              "      <td>2014-01-07</td>\n",
              "      <td>2</td>\n",
              "      <td>0.0</td>\n",
              "      <td>0</td>\n",
              "      <td>100.0</td>\n",
              "      <td>0.77</td>\n",
              "      <td>5.0</td>\n",
              "      <td>0</td>\n",
              "      <td>1</td>\n",
              "      <td>0</td>\n",
              "      <td>0</td>\n",
              "    </tr>\n",
              "    <tr>\n",
              "      <th>3</th>\n",
              "      <td>9</td>\n",
              "      <td>2014-01-10</td>\n",
              "      <td>4.6</td>\n",
              "      <td>1.14</td>\n",
              "      <td>2014-06-29</td>\n",
              "      <td>2</td>\n",
              "      <td>20.0</td>\n",
              "      <td>1</td>\n",
              "      <td>80.0</td>\n",
              "      <td>2.36</td>\n",
              "      <td>4.9</td>\n",
              "      <td>1</td>\n",
              "      <td>0</td>\n",
              "      <td>1</td>\n",
              "      <td>0</td>\n",
              "    </tr>\n",
              "    <tr>\n",
              "      <th>4</th>\n",
              "      <td>14</td>\n",
              "      <td>2014-01-27</td>\n",
              "      <td>4.4</td>\n",
              "      <td>1.19</td>\n",
              "      <td>2014-03-15</td>\n",
              "      <td>0</td>\n",
              "      <td>11.8</td>\n",
              "      <td>0</td>\n",
              "      <td>82.4</td>\n",
              "      <td>3.13</td>\n",
              "      <td>4.9</td>\n",
              "      <td>0</td>\n",
              "      <td>0</td>\n",
              "      <td>0</td>\n",
              "      <td>1</td>\n",
              "    </tr>\n",
              "  </tbody>\n",
              "</table>\n",
              "</div>"
            ],
            "text/plain": [
              "   trips_in_first_30_days signup_date  ...  city_1  city_2\n",
              "0                       4  2014-01-25  ...       1       0\n",
              "1                       0  2014-01-29  ...       0       0\n",
              "2                       3  2014-01-06  ...       0       0\n",
              "3                       9  2014-01-10  ...       1       0\n",
              "4                      14  2014-01-27  ...       0       1\n",
              "\n",
              "[5 rows x 15 columns]"
            ]
          },
          "metadata": {
            "tags": []
          },
          "execution_count": 42
        }
      ]
    },
    {
      "cell_type": "markdown",
      "metadata": {
        "id": "LZqTCDl-yWST",
        "colab_type": "text"
      },
      "source": [
        "Now that our data is free of categorical values, let's assign our features and label columns. For our features dataframe X, the date columns will be dropped along with the target column, 'active', and one of the one-hot encoded columns for 'city'. Our label column, y, is just the 'active' column.\n",
        "\n",
        "Then, data is split into training and test sets and fit to our models. Two classification models, Random Forest Classifier and XGBoost will be used to compare results."
      ]
    },
    {
      "cell_type": "code",
      "metadata": {
        "id": "GSEE1kiVwFs-",
        "colab_type": "code",
        "colab": {}
      },
      "source": [
        "X = ultimate.drop(['signup_date', 'last_trip_date', 'active', 'city_2'], axis=1)\n",
        "y = ultimate['active']"
      ],
      "execution_count": 0,
      "outputs": []
    },
    {
      "cell_type": "code",
      "metadata": {
        "id": "1PZUaKFPzENz",
        "colab_type": "code",
        "colab": {}
      },
      "source": [
        "X_train, X_test, y_train, y_test = train_test_split(X, y, test_size=0.33, random_state=42)"
      ],
      "execution_count": 0,
      "outputs": []
    },
    {
      "cell_type": "markdown",
      "metadata": {
        "id": "oNkWZNjQd4qW",
        "colab_type": "text"
      },
      "source": [
        "#### XGBoost"
      ]
    },
    {
      "cell_type": "code",
      "metadata": {
        "id": "e4Mh7r8Nzr-U",
        "colab_type": "code",
        "outputId": "b984419e-4118-49fe-daf1-1575ac2434a9",
        "colab": {
          "base_uri": "https://localhost:8080/",
          "height": 136
        }
      },
      "source": [
        "model = XGBClassifier(n_estimators=600)\n",
        "model.fit(X_train, y_train)"
      ],
      "execution_count": 0,
      "outputs": [
        {
          "output_type": "execute_result",
          "data": {
            "text/plain": [
              "XGBClassifier(base_score=0.5, booster='gbtree', colsample_bylevel=1,\n",
              "              colsample_bynode=1, colsample_bytree=1, gamma=0,\n",
              "              learning_rate=0.1, max_delta_step=0, max_depth=3,\n",
              "              min_child_weight=1, missing=None, n_estimators=600, n_jobs=1,\n",
              "              nthread=None, objective='binary:logistic', random_state=0,\n",
              "              reg_alpha=0, reg_lambda=1, scale_pos_weight=1, seed=None,\n",
              "              silent=None, subsample=1, verbosity=1)"
            ]
          },
          "metadata": {
            "tags": []
          },
          "execution_count": 45
        }
      ]
    },
    {
      "cell_type": "code",
      "metadata": {
        "id": "bbA0Ne6Az0Qj",
        "colab_type": "code",
        "colab": {}
      },
      "source": [
        "predictions = model.predict(X_test)"
      ],
      "execution_count": 0,
      "outputs": []
    },
    {
      "cell_type": "code",
      "metadata": {
        "id": "hyTJS90jDktM",
        "colab_type": "code",
        "outputId": "11733e53-93f8-4075-c9de-6b1bbf90e7d1",
        "colab": {
          "base_uri": "https://localhost:8080/",
          "height": 170
        }
      },
      "source": [
        "print(classification_report(y_test, predictions))"
      ],
      "execution_count": 0,
      "outputs": [
        {
          "output_type": "stream",
          "text": [
            "              precision    recall  f1-score   support\n",
            "\n",
            "           0       0.81      0.86      0.84     10305\n",
            "           1       0.74      0.67      0.71      6195\n",
            "\n",
            "    accuracy                           0.79     16500\n",
            "   macro avg       0.78      0.77      0.77     16500\n",
            "weighted avg       0.79      0.79      0.79     16500\n",
            "\n"
          ],
          "name": "stdout"
        }
      ]
    },
    {
      "cell_type": "code",
      "metadata": {
        "id": "cnGAx-VCEBsz",
        "colab_type": "code",
        "outputId": "e58c0ed8-1eb6-43bb-f0c7-5e27336be1a1",
        "colab": {
          "base_uri": "https://localhost:8080/",
          "height": 295
        }
      },
      "source": [
        "plot_importance(model)\n",
        "plt.show()"
      ],
      "execution_count": 0,
      "outputs": [
        {
          "output_type": "display_data",
          "data": {
            "image/png": "[encoded data removed]",
            "text/plain": [
              "<Figure size 432x288 with 1 Axes>"
            ]
          },
          "metadata": {
            "tags": []
          }
        }
      ]
    },
    {
      "cell_type": "markdown",
      "metadata": {
        "id": "sMy6jBF3eBrD",
        "colab_type": "text"
      },
      "source": [
        "Random Forest Classifier"
      ]
    },
    {
      "cell_type": "code",
      "metadata": {
        "id": "VFJrbwQg0A37",
        "colab_type": "code",
        "colab": {}
      },
      "source": [
        "rf = RandomForestClassifier(n_estimators=50, n_jobs=-1, random_state=42)"
      ],
      "execution_count": 0,
      "outputs": []
    },
    {
      "cell_type": "code",
      "metadata": {
        "id": "fNShClgG1JC1",
        "colab_type": "code",
        "outputId": "c04f8c27-a90f-48fa-dd7f-c4e0693038a5",
        "colab": {
          "base_uri": "https://localhost:8080/",
          "height": 34
        }
      },
      "source": [
        "param_grid = { \n",
        "    'n_estimators': [150, 175, 200 , 225],\n",
        "    'max_features': ['auto', 'sqrt', 'log2'],\n",
        "    'criterion': ['gini','entropy']\n",
        "}\n",
        "rfcv = GridSearchCV(estimator=rf, param_grid=param_grid, cv= 5)\n",
        "rfcv.fit(X_train, y_train)\n",
        "print (rfcv.best_params_)"
      ],
      "execution_count": 0,
      "outputs": [
        {
          "output_type": "stream",
          "text": [
            "{'criterion': 'gini', 'max_features': 'auto', 'n_estimators': 175}\n"
          ],
          "name": "stdout"
        }
      ]
    },
    {
      "cell_type": "code",
      "metadata": {
        "id": "FGckjipe1TLz",
        "colab_type": "code",
        "outputId": "b8e63926-1ac9-4987-b5d8-74a1c4ac0a15",
        "colab": {
          "base_uri": "https://localhost:8080/",
          "height": 51
        }
      },
      "source": [
        "y_pred = rfcv.predict(X_test)\n",
        "print(confusion_matrix(y_test, y_pred))"
      ],
      "execution_count": 0,
      "outputs": [
        {
          "output_type": "stream",
          "text": [
            "[[8338 1967]\n",
            " [2101 4094]]\n"
          ],
          "name": "stdout"
        }
      ]
    },
    {
      "cell_type": "code",
      "metadata": {
        "id": "UDOMuKArhwgU",
        "colab_type": "code",
        "outputId": "87fce34a-53eb-4edb-b6df-8d77329da30c",
        "colab": {
          "base_uri": "https://localhost:8080/",
          "height": 170
        }
      },
      "source": [
        "print(classification_report(y_test, y_pred))"
      ],
      "execution_count": 0,
      "outputs": [
        {
          "output_type": "stream",
          "text": [
            "              precision    recall  f1-score   support\n",
            "\n",
            "           0       0.80      0.81      0.80     10305\n",
            "           1       0.68      0.66      0.67      6195\n",
            "\n",
            "    accuracy                           0.75     16500\n",
            "   macro avg       0.74      0.73      0.74     16500\n",
            "weighted avg       0.75      0.75      0.75     16500\n",
            "\n"
          ],
          "name": "stdout"
        }
      ]
    },
    {
      "cell_type": "markdown",
      "metadata": {
        "id": "-z8gQn1LC61Z",
        "colab_type": "text"
      },
      "source": [
        "Both  models were chosen because they are very popular among classification models and give relatively high accuracy. A grid search was completed for the RF model to determine the best parameters to give the highest accuracy. For the XGB model, different numbers of estimators were tried with very little variance in the resultant accuracy. Further hyperparameter tuning for this model can be performed to obtained the best model for the data seet.\n",
        "\n",
        "From the code above, it is observed that the XGBoost model has a slight edge over the Random Forest model with an accuracy score of 79% vs 75%. "
      ]
    },
    {
      "cell_type": "markdown",
      "metadata": {
        "id": "SYIb5AlyeSay",
        "colab_type": "text"
      },
      "source": [
        "Feature importances were extracted from the XGBoost model to determine which factors might influence the model performance. From the horizontal bar plot above, the three highest scoring features were avg_dist, trips_in_first_30_days and weekday_pct. Ultimate can improve its long-term rider retention by incentivzing users when they use the service in the first 30 days, on weekdays or use the service more frequently or for longer distances."
      ]
    }
  ]
}